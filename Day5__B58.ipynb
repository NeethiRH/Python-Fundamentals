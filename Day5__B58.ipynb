{
 "cells": [
  {
   "cell_type": "code",
   "execution_count": null,
   "id": "f02f31e0",
   "metadata": {},
   "outputs": [],
   "source": [
    "List datatype: continued"
   ]
  },
  {
   "cell_type": "code",
   "execution_count": null,
   "id": "5a51e88b",
   "metadata": {},
   "outputs": [],
   "source": []
  },
  {
   "cell_type": "code",
   "execution_count": null,
   "id": "bf8af43d",
   "metadata": {},
   "outputs": [],
   "source": [
    "Organising the list datatype:"
   ]
  },
  {
   "cell_type": "code",
   "execution_count": 1,
   "id": "005ba0dd",
   "metadata": {},
   "outputs": [],
   "source": [
    "flowers = ['rose', 'marigold', 'lily', 'orchid', 'carnation', 'tulip', 'lotus']"
   ]
  },
  {
   "cell_type": "code",
   "execution_count": 2,
   "id": "f876427e",
   "metadata": {},
   "outputs": [
    {
     "name": "stdout",
     "output_type": "stream",
     "text": [
      "['rose', 'marigold', 'lily', 'orchid', 'carnation', 'tulip', 'lotus']\n"
     ]
    }
   ],
   "source": [
    "print(flowers)"
   ]
  },
  {
   "cell_type": "code",
   "execution_count": null,
   "id": "0d5d9a76",
   "metadata": {},
   "outputs": [],
   "source": [
    "# display the list in an alphabetical order"
   ]
  },
  {
   "cell_type": "code",
   "execution_count": null,
   "id": "d24263de",
   "metadata": {},
   "outputs": [],
   "source": [
    "1. Temporary approach ----> sorted\n",
    "\n",
    "2. Permanent approach ----> sort"
   ]
  },
  {
   "cell_type": "code",
   "execution_count": 5,
   "id": "ee2a2caf",
   "metadata": {},
   "outputs": [
    {
     "ename": "AttributeError",
     "evalue": "'list' object has no attribute 'sorted'",
     "output_type": "error",
     "traceback": [
      "\u001b[0;31m---------------------------------------------------------------------------\u001b[0m",
      "\u001b[0;31mAttributeError\u001b[0m                            Traceback (most recent call last)",
      "\u001b[0;32m/var/folders/15/q_cc9h4s5dx_xb66t1nshmb00000gn/T/ipykernel_13181/3526976366.py\u001b[0m in \u001b[0;36m<module>\u001b[0;34m\u001b[0m\n\u001b[0;32m----> 1\u001b[0;31m \u001b[0mflowers\u001b[0m\u001b[0;34m.\u001b[0m\u001b[0msorted\u001b[0m\u001b[0;34m(\u001b[0m\u001b[0;34m)\u001b[0m\u001b[0;34m\u001b[0m\u001b[0;34m\u001b[0m\u001b[0m\n\u001b[0m",
      "\u001b[0;31mAttributeError\u001b[0m: 'list' object has no attribute 'sorted'"
     ]
    }
   ],
   "source": [
    "flowers.sorted()"
   ]
  },
  {
   "cell_type": "code",
   "execution_count": 6,
   "id": "9199891e",
   "metadata": {},
   "outputs": [
    {
     "name": "stdout",
     "output_type": "stream",
     "text": [
      "['carnation', 'lily', 'lotus', 'marigold', 'orchid', 'rose', 'tulip']\n"
     ]
    }
   ],
   "source": [
    "print(sorted(flowers))"
   ]
  },
  {
   "cell_type": "code",
   "execution_count": 7,
   "id": "3951e3d6",
   "metadata": {},
   "outputs": [],
   "source": [
    "flowers.sort()"
   ]
  },
  {
   "cell_type": "code",
   "execution_count": 8,
   "id": "6532837c",
   "metadata": {},
   "outputs": [
    {
     "name": "stdout",
     "output_type": "stream",
     "text": [
      "['carnation', 'lily', 'lotus', 'marigold', 'orchid', 'rose', 'tulip']\n"
     ]
    }
   ],
   "source": [
    "print(flowers)"
   ]
  },
  {
   "cell_type": "code",
   "execution_count": null,
   "id": "f1e5d70c",
   "metadata": {},
   "outputs": [],
   "source": []
  },
  {
   "cell_type": "code",
   "execution_count": null,
   "id": "7426e33a",
   "metadata": {},
   "outputs": [],
   "source": [
    "# print the list in reverse alphabetical order"
   ]
  },
  {
   "cell_type": "code",
   "execution_count": 9,
   "id": "426aa7a3",
   "metadata": {},
   "outputs": [],
   "source": [
    "flowers.reverse()"
   ]
  },
  {
   "cell_type": "code",
   "execution_count": 10,
   "id": "84195f89",
   "metadata": {},
   "outputs": [
    {
     "name": "stdout",
     "output_type": "stream",
     "text": [
      "['tulip', 'rose', 'orchid', 'marigold', 'lotus', 'lily', 'carnation']\n"
     ]
    }
   ],
   "source": [
    "print(flowers)"
   ]
  },
  {
   "cell_type": "code",
   "execution_count": null,
   "id": "b5bceef8",
   "metadata": {},
   "outputs": [],
   "source": []
  },
  {
   "cell_type": "code",
   "execution_count": null,
   "id": "03103b36",
   "metadata": {},
   "outputs": [],
   "source": [
    "# count of number of elements in the list"
   ]
  },
  {
   "cell_type": "code",
   "execution_count": 11,
   "id": "e0ee4d22",
   "metadata": {},
   "outputs": [
    {
     "data": {
      "text/plain": [
       "7"
      ]
     },
     "execution_count": 11,
     "metadata": {},
     "output_type": "execute_result"
    }
   ],
   "source": [
    "len(flowers)"
   ]
  },
  {
   "cell_type": "code",
   "execution_count": null,
   "id": "cb2ac5fc",
   "metadata": {},
   "outputs": [],
   "source": []
  },
  {
   "cell_type": "code",
   "execution_count": null,
   "id": "a964e7a6",
   "metadata": {},
   "outputs": [],
   "source": [
    "Introduction to slicing: "
   ]
  },
  {
   "cell_type": "code",
   "execution_count": null,
   "id": "7fde6b7f",
   "metadata": {},
   "outputs": [],
   "source": []
  },
  {
   "cell_type": "code",
   "execution_count": 12,
   "id": "769e8b58",
   "metadata": {},
   "outputs": [],
   "source": [
    "students = ['pranav', 'kshitij', 'aditi', 'rehan', 'sunny', 'sai', 'yash', 'vaishnavi', 'shubham', 'ayaan']"
   ]
  },
  {
   "cell_type": "code",
   "execution_count": 13,
   "id": "a2fd0dd3",
   "metadata": {},
   "outputs": [
    {
     "name": "stdout",
     "output_type": "stream",
     "text": [
      "['pranav', 'kshitij', 'aditi', 'rehan', 'sunny', 'sai', 'yash', 'vaishnavi', 'shubham', 'ayaan']\n"
     ]
    }
   ],
   "source": [
    "print(students)"
   ]
  },
  {
   "cell_type": "code",
   "execution_count": 14,
   "id": "4a2775f9",
   "metadata": {},
   "outputs": [
    {
     "data": {
      "text/plain": [
       "list"
      ]
     },
     "execution_count": 14,
     "metadata": {},
     "output_type": "execute_result"
    }
   ],
   "source": [
    "type(students)"
   ]
  },
  {
   "cell_type": "code",
   "execution_count": null,
   "id": "590a9565",
   "metadata": {},
   "outputs": [],
   "source": []
  },
  {
   "cell_type": "code",
   "execution_count": null,
   "id": "85794a84",
   "metadata": {},
   "outputs": [],
   "source": [
    "General syntax of slicing:\n",
    "    \n",
    "list[startvalue:stopvalue:stepcount]\n",
    "\n",
    "Note: Stop value is always exclusive, to include the stop value, we have to increase the index by +1"
   ]
  },
  {
   "cell_type": "code",
   "execution_count": null,
   "id": "7fb78b6e",
   "metadata": {},
   "outputs": [],
   "source": [
    "req. 1: I want to include names appearing between rehan and shubham in the list."
   ]
  },
  {
   "cell_type": "code",
   "execution_count": 15,
   "id": "0531ca59",
   "metadata": {},
   "outputs": [
    {
     "name": "stdout",
     "output_type": "stream",
     "text": [
      "['sunny', 'sai', 'yash', 'vaishnavi']\n"
     ]
    }
   ],
   "source": [
    "print(students[4:8])"
   ]
  },
  {
   "cell_type": "code",
   "execution_count": null,
   "id": "597ebb02",
   "metadata": {},
   "outputs": [],
   "source": [
    "req. 2: I want to include kshitij and aditi in the list"
   ]
  },
  {
   "cell_type": "code",
   "execution_count": 16,
   "id": "93dbbb7f",
   "metadata": {},
   "outputs": [
    {
     "name": "stdout",
     "output_type": "stream",
     "text": [
      "['kshitij', 'aditi']\n"
     ]
    }
   ],
   "source": [
    "print(students[1:3])"
   ]
  },
  {
   "cell_type": "code",
   "execution_count": null,
   "id": "4993b20d",
   "metadata": {},
   "outputs": [],
   "source": [
    "req. 3: I want to add shubham and ayaan in the list"
   ]
  },
  {
   "cell_type": "code",
   "execution_count": 17,
   "id": "c8c646f3",
   "metadata": {},
   "outputs": [
    {
     "name": "stdout",
     "output_type": "stream",
     "text": [
      "['shubham', 'ayaan']\n"
     ]
    }
   ],
   "source": [
    "print(students[8:10])"
   ]
  },
  {
   "cell_type": "code",
   "execution_count": 18,
   "id": "e4cdb0f6",
   "metadata": {},
   "outputs": [
    {
     "name": "stdout",
     "output_type": "stream",
     "text": [
      "['pranav', 'kshitij', 'aditi', 'rehan', 'sunny', 'sai', 'yash', 'vaishnavi', 'shubham', 'ayaan']\n"
     ]
    }
   ],
   "source": [
    "print(students)"
   ]
  },
  {
   "cell_type": "code",
   "execution_count": 19,
   "id": "2c7f6b92",
   "metadata": {},
   "outputs": [
    {
     "name": "stdout",
     "output_type": "stream",
     "text": [
      "['pranav', 'aditi', 'sunny', 'yash']\n"
     ]
    }
   ],
   "source": [
    "print(students[0:8:2])"
   ]
  },
  {
   "cell_type": "code",
   "execution_count": 21,
   "id": "b76d72ec",
   "metadata": {},
   "outputs": [
    {
     "name": "stdout",
     "output_type": "stream",
     "text": [
      "['pranav', 'sunny', 'shubham']\n"
     ]
    }
   ],
   "source": [
    "print(students[0:10:4])"
   ]
  },
  {
   "cell_type": "code",
   "execution_count": 22,
   "id": "00e2d02f",
   "metadata": {},
   "outputs": [
    {
     "name": "stdout",
     "output_type": "stream",
     "text": [
      "['pranav', 'rehan', 'yash']\n"
     ]
    }
   ],
   "source": [
    "print(students[0:7:3])"
   ]
  }
 ],
 "metadata": {
  "kernelspec": {
   "display_name": "Python 3 (ipykernel)",
   "language": "python",
   "name": "python3"
  },
  "language_info": {
   "codemirror_mode": {
    "name": "ipython",
    "version": 3
   },
   "file_extension": ".py",
   "mimetype": "text/x-python",
   "name": "python",
   "nbconvert_exporter": "python",
   "pygments_lexer": "ipython3",
   "version": "3.9.7"
  }
 },
 "nbformat": 4,
 "nbformat_minor": 5
}
