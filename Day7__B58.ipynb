{
 "cells": [
  {
   "cell_type": "code",
   "execution_count": null,
   "id": "427e51e7",
   "metadata": {},
   "outputs": [],
   "source": [
    "Introduction to tuple datatype:"
   ]
  },
  {
   "cell_type": "code",
   "execution_count": null,
   "id": "606a2df1",
   "metadata": {},
   "outputs": [],
   "source": [
    "Definition: An immutable list is known as tuple datatype.\n",
    "    \n",
    "It is classified as an immutable datatype.\n",
    "\n",
    "It is defined using ()"
   ]
  },
  {
   "cell_type": "code",
   "execution_count": null,
   "id": "68be6094",
   "metadata": {},
   "outputs": [],
   "source": []
  },
  {
   "cell_type": "code",
   "execution_count": 1,
   "id": "435fddc3",
   "metadata": {},
   "outputs": [],
   "source": [
    "students = ('nitin', 'ajay', 'shrutika', 'kunal', 'priti')"
   ]
  },
  {
   "cell_type": "code",
   "execution_count": 2,
   "id": "89429cf3",
   "metadata": {},
   "outputs": [
    {
     "name": "stdout",
     "output_type": "stream",
     "text": [
      "('nitin', 'ajay', 'shrutika', 'kunal', 'priti')\n"
     ]
    }
   ],
   "source": [
    "print(students)"
   ]
  },
  {
   "cell_type": "code",
   "execution_count": null,
   "id": "72688caa",
   "metadata": {},
   "outputs": [],
   "source": []
  },
  {
   "cell_type": "code",
   "execution_count": 3,
   "id": "6b3db5df",
   "metadata": {},
   "outputs": [
    {
     "data": {
      "text/plain": [
       "tuple"
      ]
     },
     "execution_count": 3,
     "metadata": {},
     "output_type": "execute_result"
    }
   ],
   "source": [
    "type(students)"
   ]
  },
  {
   "cell_type": "code",
   "execution_count": null,
   "id": "be071918",
   "metadata": {},
   "outputs": [],
   "source": []
  },
  {
   "cell_type": "code",
   "execution_count": null,
   "id": "8e170a81",
   "metadata": {},
   "outputs": [],
   "source": [
    "# I want to replace the name priti with preeti"
   ]
  },
  {
   "cell_type": "code",
   "execution_count": null,
   "id": "5cb94bf3",
   "metadata": {},
   "outputs": [],
   "source": []
  },
  {
   "cell_type": "code",
   "execution_count": 4,
   "id": "1d45e99f",
   "metadata": {},
   "outputs": [
    {
     "ename": "TypeError",
     "evalue": "'tuple' object does not support item assignment",
     "output_type": "error",
     "traceback": [
      "\u001b[0;31m---------------------------------------------------------------------------\u001b[0m",
      "\u001b[0;31mTypeError\u001b[0m                                 Traceback (most recent call last)",
      "\u001b[0;32m/var/folders/15/q_cc9h4s5dx_xb66t1nshmb00000gn/T/ipykernel_14791/2194099107.py\u001b[0m in \u001b[0;36m<module>\u001b[0;34m\u001b[0m\n\u001b[0;32m----> 1\u001b[0;31m \u001b[0mstudents\u001b[0m\u001b[0;34m[\u001b[0m\u001b[0;36m4\u001b[0m\u001b[0;34m]\u001b[0m \u001b[0;34m=\u001b[0m \u001b[0;34m'preeti'\u001b[0m\u001b[0;34m\u001b[0m\u001b[0;34m\u001b[0m\u001b[0m\n\u001b[0m",
      "\u001b[0;31mTypeError\u001b[0m: 'tuple' object does not support item assignment"
     ]
    }
   ],
   "source": [
    "students[4] = 'preeti'"
   ]
  },
  {
   "cell_type": "code",
   "execution_count": null,
   "id": "de7c37fe",
   "metadata": {},
   "outputs": [],
   "source": []
  },
  {
   "cell_type": "code",
   "execution_count": null,
   "id": "5706e6b9",
   "metadata": {},
   "outputs": [],
   "source": [
    "# I want to get the name shrutika in the output"
   ]
  },
  {
   "cell_type": "code",
   "execution_count": 5,
   "id": "1051bd4b",
   "metadata": {},
   "outputs": [
    {
     "name": "stdout",
     "output_type": "stream",
     "text": [
      "shrutika\n"
     ]
    }
   ],
   "source": [
    "print(students[2])"
   ]
  },
  {
   "cell_type": "code",
   "execution_count": null,
   "id": "049849e5",
   "metadata": {},
   "outputs": [],
   "source": []
  },
  {
   "cell_type": "code",
   "execution_count": null,
   "id": "9bcb40ed",
   "metadata": {},
   "outputs": [],
   "source": [
    "# I want to implement a for loop onto the tuple."
   ]
  },
  {
   "cell_type": "code",
   "execution_count": 6,
   "id": "8afb3197",
   "metadata": {},
   "outputs": [
    {
     "name": "stdout",
     "output_type": "stream",
     "text": [
      "nitin\n",
      "ajay\n",
      "shrutika\n",
      "kunal\n",
      "priti\n"
     ]
    }
   ],
   "source": [
    "for x in students:\n",
    "    print(x)"
   ]
  },
  {
   "cell_type": "code",
   "execution_count": null,
   "id": "d89ecbad",
   "metadata": {},
   "outputs": [],
   "source": []
  }
 ],
 "metadata": {
  "kernelspec": {
   "display_name": "Python 3 (ipykernel)",
   "language": "python",
   "name": "python3"
  },
  "language_info": {
   "codemirror_mode": {
    "name": "ipython",
    "version": 3
   },
   "file_extension": ".py",
   "mimetype": "text/x-python",
   "name": "python",
   "nbconvert_exporter": "python",
   "pygments_lexer": "ipython3",
   "version": "3.9.7"
  }
 },
 "nbformat": 4,
 "nbformat_minor": 5
}
