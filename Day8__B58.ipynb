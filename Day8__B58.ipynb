{
 "cells": [
  {
   "cell_type": "code",
   "execution_count": null,
   "id": "f6102408",
   "metadata": {},
   "outputs": [],
   "source": [
    "Introduction to dictionary datatype (** very important)"
   ]
  },
  {
   "cell_type": "code",
   "execution_count": null,
   "id": "2af018b3",
   "metadata": {},
   "outputs": [],
   "source": [
    "Definition: A dictionary is a combination of key - value pairs. (shortform - dict)\n",
    "    \n",
    "Classification: It is classified as a mutable datatype\n",
    "    \n",
    "dictionary datatype is defined using {}"
   ]
  },
  {
   "cell_type": "code",
   "execution_count": null,
   "id": "6df13a2e",
   "metadata": {},
   "outputs": [],
   "source": []
  },
  {
   "cell_type": "code",
   "execution_count": null,
   "id": "a45de1d7",
   "metadata": {},
   "outputs": [],
   "source": [
    "# designing an alien"
   ]
  },
  {
   "cell_type": "code",
   "execution_count": 1,
   "id": "001ee389",
   "metadata": {},
   "outputs": [],
   "source": [
    "alient = {'colour : red', 'points : 10'}"
   ]
  },
  {
   "cell_type": "code",
   "execution_count": 2,
   "id": "999daffd",
   "metadata": {},
   "outputs": [
    {
     "ename": "NameError",
     "evalue": "name 'alien' is not defined",
     "output_type": "error",
     "traceback": [
      "\u001b[0;31m---------------------------------------------------------------------------\u001b[0m",
      "\u001b[0;31mNameError\u001b[0m                                 Traceback (most recent call last)",
      "\u001b[0;32m/var/folders/15/q_cc9h4s5dx_xb66t1nshmb00000gn/T/ipykernel_1238/994203837.py\u001b[0m in \u001b[0;36m<module>\u001b[0;34m\u001b[0m\n\u001b[0;32m----> 1\u001b[0;31m \u001b[0mprint\u001b[0m\u001b[0;34m(\u001b[0m\u001b[0malien\u001b[0m\u001b[0;34m)\u001b[0m\u001b[0;34m\u001b[0m\u001b[0;34m\u001b[0m\u001b[0m\n\u001b[0m",
      "\u001b[0;31mNameError\u001b[0m: name 'alien' is not defined"
     ]
    }
   ],
   "source": [
    "print(alien)"
   ]
  },
  {
   "cell_type": "code",
   "execution_count": 3,
   "id": "56d60de5",
   "metadata": {},
   "outputs": [
    {
     "ename": "SyntaxError",
     "evalue": "invalid syntax (874755201.py, line 1)",
     "output_type": "error",
     "traceback": [
      "\u001b[0;36m  File \u001b[0;32m\"/var/folders/15/q_cc9h4s5dx_xb66t1nshmb00000gn/T/ipykernel_1238/874755201.py\"\u001b[0;36m, line \u001b[0;32m1\u001b[0m\n\u001b[0;31m    alien = {'colour : red', 'points' : 10}\u001b[0m\n\u001b[0m                                      ^\u001b[0m\n\u001b[0;31mSyntaxError\u001b[0m\u001b[0;31m:\u001b[0m invalid syntax\n"
     ]
    }
   ],
   "source": [
    "alien = {'colour : red', 'points' : 10}"
   ]
  },
  {
   "cell_type": "code",
   "execution_count": 4,
   "id": "429d28cc",
   "metadata": {},
   "outputs": [],
   "source": [
    "alien = {'color' : 'red', 'points' : 10}"
   ]
  },
  {
   "cell_type": "code",
   "execution_count": 5,
   "id": "1d9d4031",
   "metadata": {},
   "outputs": [
    {
     "name": "stdout",
     "output_type": "stream",
     "text": [
      "{'color': 'red', 'points': 10}\n"
     ]
    }
   ],
   "source": [
    "print(alien)"
   ]
  },
  {
   "cell_type": "code",
   "execution_count": 6,
   "id": "c1b063ca",
   "metadata": {},
   "outputs": [
    {
     "data": {
      "text/plain": [
       "dict"
      ]
     },
     "execution_count": 6,
     "metadata": {},
     "output_type": "execute_result"
    }
   ],
   "source": [
    "type(alien)"
   ]
  },
  {
   "cell_type": "code",
   "execution_count": null,
   "id": "6fe1aaaa",
   "metadata": {},
   "outputs": [],
   "source": []
  },
  {
   "cell_type": "code",
   "execution_count": null,
   "id": "6ba85c80",
   "metadata": {},
   "outputs": [],
   "source": [
    "# How to access the elements in the dict?"
   ]
  },
  {
   "cell_type": "code",
   "execution_count": 7,
   "id": "b2ed87b0",
   "metadata": {},
   "outputs": [
    {
     "name": "stdout",
     "output_type": "stream",
     "text": [
      "red\n"
     ]
    }
   ],
   "source": [
    "print(alien['color'])"
   ]
  },
  {
   "cell_type": "code",
   "execution_count": null,
   "id": "3075f14c",
   "metadata": {},
   "outputs": [],
   "source": [
    "#Note: Give the key and get the value. We cannot give the value to get the key. \n",
    "\n",
    "In a dict, keys will be acting as index"
   ]
  },
  {
   "cell_type": "code",
   "execution_count": 8,
   "id": "e463e915",
   "metadata": {},
   "outputs": [
    {
     "name": "stdout",
     "output_type": "stream",
     "text": [
      "10\n"
     ]
    }
   ],
   "source": [
    "print(alien['points'])"
   ]
  },
  {
   "cell_type": "code",
   "execution_count": null,
   "id": "49b5d83d",
   "metadata": {},
   "outputs": [],
   "source": []
  },
  {
   "cell_type": "code",
   "execution_count": null,
   "id": "4c7bcfff",
   "metadata": {},
   "outputs": [],
   "source": [
    "# How to add new key value pairs to the existing dictionary"
   ]
  },
  {
   "cell_type": "code",
   "execution_count": null,
   "id": "bd2d098c",
   "metadata": {},
   "outputs": [],
   "source": [
    "# requirement: I want to add start position in alien"
   ]
  },
  {
   "cell_type": "code",
   "execution_count": 9,
   "id": "135b8b28",
   "metadata": {},
   "outputs": [],
   "source": [
    "alien['start_position'] = 0"
   ]
  },
  {
   "cell_type": "code",
   "execution_count": 10,
   "id": "682ca7ca",
   "metadata": {},
   "outputs": [
    {
     "name": "stdout",
     "output_type": "stream",
     "text": [
      "{'color': 'red', 'points': 10, 'start_position': 0}\n"
     ]
    }
   ],
   "source": [
    "print(alien)"
   ]
  },
  {
   "cell_type": "code",
   "execution_count": null,
   "id": "ee75c3d7",
   "metadata": {},
   "outputs": [],
   "source": []
  },
  {
   "cell_type": "code",
   "execution_count": 11,
   "id": "f9975e12",
   "metadata": {},
   "outputs": [
    {
     "ename": "SyntaxError",
     "evalue": "unexpected character after line continuation character (3108509913.py, line 1)",
     "output_type": "error",
     "traceback": [
      "\u001b[0;36m  File \u001b[0;32m\"/var/folders/15/q_cc9h4s5dx_xb66t1nshmb00000gn/T/ipykernel_1238/3108509913.py\"\u001b[0;36m, line \u001b[0;32m1\u001b[0m\n\u001b[0;31m    newaccount = {'username' : 'alwayslearning', 'first_name' : 'always', 'last_name': 'learning',\\\u001b[0m\n\u001b[0m                                                                                                   ^\u001b[0m\n\u001b[0;31mSyntaxError\u001b[0m\u001b[0;31m:\u001b[0m unexpected character after line continuation character\n"
     ]
    }
   ],
   "source": [
    "newaccount = {'username' : 'alwayslearning', 'first_name' : 'always', 'last_name': 'learning',\\ \n",
    "              'DOB' : '20-03-2017', 'password' : '12345'}"
   ]
  },
  {
   "cell_type": "code",
   "execution_count": 12,
   "id": "e7d8613b",
   "metadata": {},
   "outputs": [],
   "source": [
    "newaccount = {'username' : 'alwayslearning', 'first_name' : 'always', 'last_name': 'learning', 'DOB' : '20-03-2017', 'password' : '12345'}"
   ]
  },
  {
   "cell_type": "code",
   "execution_count": 13,
   "id": "e5b31d8d",
   "metadata": {},
   "outputs": [
    {
     "name": "stdout",
     "output_type": "stream",
     "text": [
      "{'username': 'alwayslearning', 'first_name': 'always', 'last_name': 'learning', 'DOB': '20-03-2017', 'password': '12345'}\n"
     ]
    }
   ],
   "source": [
    "print(newaccount)"
   ]
  },
  {
   "cell_type": "code",
   "execution_count": null,
   "id": "c559911d",
   "metadata": {},
   "outputs": [],
   "source": [
    "# req: update location "
   ]
  },
  {
   "cell_type": "code",
   "execution_count": 14,
   "id": "97949eee",
   "metadata": {},
   "outputs": [],
   "source": [
    "newaccount['location'] = 'Mumbai'"
   ]
  },
  {
   "cell_type": "code",
   "execution_count": 15,
   "id": "686aba35",
   "metadata": {},
   "outputs": [
    {
     "name": "stdout",
     "output_type": "stream",
     "text": [
      "{'username': 'alwayslearning', 'first_name': 'always', 'last_name': 'learning', 'DOB': '20-03-2017', 'password': '12345', 'location': 'Mumbai'}\n"
     ]
    }
   ],
   "source": [
    "print(newaccount)"
   ]
  },
  {
   "cell_type": "code",
   "execution_count": null,
   "id": "aee4f352",
   "metadata": {},
   "outputs": [],
   "source": []
  },
  {
   "cell_type": "code",
   "execution_count": null,
   "id": "625001eb",
   "metadata": {},
   "outputs": [],
   "source": [
    "# How to modify the values in an existing dict? ---- newaccount"
   ]
  },
  {
   "cell_type": "code",
   "execution_count": 16,
   "id": "c2e8f671",
   "metadata": {},
   "outputs": [],
   "source": [
    "newaccount['password'] = '56789'"
   ]
  },
  {
   "cell_type": "code",
   "execution_count": 17,
   "id": "bdb32146",
   "metadata": {},
   "outputs": [
    {
     "name": "stdout",
     "output_type": "stream",
     "text": [
      "{'username': 'alwayslearning', 'first_name': 'always', 'last_name': 'learning', 'DOB': '20-03-2017', 'password': '56789', 'location': 'Mumbai'}\n"
     ]
    }
   ],
   "source": [
    "print(newaccount)"
   ]
  },
  {
   "cell_type": "code",
   "execution_count": 18,
   "id": "6b417b89",
   "metadata": {},
   "outputs": [
    {
     "name": "stdout",
     "output_type": "stream",
     "text": [
      "{'color': 'red', 'points': 10, 'start_position': 0}\n"
     ]
    }
   ],
   "source": [
    "print(alien)"
   ]
  },
  {
   "cell_type": "code",
   "execution_count": 19,
   "id": "14c0cd5e",
   "metadata": {},
   "outputs": [],
   "source": [
    "alien['points'] = '20'"
   ]
  },
  {
   "cell_type": "code",
   "execution_count": 20,
   "id": "b4ab12ef",
   "metadata": {},
   "outputs": [
    {
     "name": "stdout",
     "output_type": "stream",
     "text": [
      "{'color': 'red', 'points': '20', 'start_position': 0}\n"
     ]
    }
   ],
   "source": [
    "print(alien)"
   ]
  },
  {
   "cell_type": "code",
   "execution_count": null,
   "id": "3904bd7a",
   "metadata": {},
   "outputs": [],
   "source": []
  },
  {
   "cell_type": "code",
   "execution_count": null,
   "id": "78a1f8c3",
   "metadata": {},
   "outputs": [],
   "source": [
    "# How to delete the key value pairs in a dict?"
   ]
  },
  {
   "cell_type": "code",
   "execution_count": 21,
   "id": "1f31173f",
   "metadata": {},
   "outputs": [],
   "source": [
    "del alien ['start_position']"
   ]
  },
  {
   "cell_type": "code",
   "execution_count": 22,
   "id": "157943ae",
   "metadata": {},
   "outputs": [
    {
     "name": "stdout",
     "output_type": "stream",
     "text": [
      "{'color': 'red', 'points': '20'}\n"
     ]
    }
   ],
   "source": [
    "print(alien)"
   ]
  },
  {
   "cell_type": "code",
   "execution_count": 23,
   "id": "f3c3565d",
   "metadata": {},
   "outputs": [],
   "source": [
    "del newaccount ['location']"
   ]
  },
  {
   "cell_type": "code",
   "execution_count": 24,
   "id": "6e3828cc",
   "metadata": {},
   "outputs": [
    {
     "name": "stdout",
     "output_type": "stream",
     "text": [
      "{'username': 'alwayslearning', 'first_name': 'always', 'last_name': 'learning', 'DOB': '20-03-2017', 'password': '56789'}\n"
     ]
    }
   ],
   "source": [
    "print(newaccount)"
   ]
  },
  {
   "cell_type": "code",
   "execution_count": null,
   "id": "95a98132",
   "metadata": {},
   "outputs": [],
   "source": []
  }
 ],
 "metadata": {
  "kernelspec": {
   "display_name": "Python 3 (ipykernel)",
   "language": "python",
   "name": "python3"
  },
  "language_info": {
   "codemirror_mode": {
    "name": "ipython",
    "version": 3
   },
   "file_extension": ".py",
   "mimetype": "text/x-python",
   "name": "python",
   "nbconvert_exporter": "python",
   "pygments_lexer": "ipython3",
   "version": "3.9.7"
  }
 },
 "nbformat": 4,
 "nbformat_minor": 5
}
