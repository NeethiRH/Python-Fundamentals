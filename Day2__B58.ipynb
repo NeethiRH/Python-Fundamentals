{
 "cells": [
  {
   "cell_type": "code",
   "execution_count": null,
   "id": "1b468b92",
   "metadata": {},
   "outputs": [],
   "source": [
    "Variables in Python"
   ]
  },
  {
   "cell_type": "code",
   "execution_count": null,
   "id": "024d5a2d",
   "metadata": {},
   "outputs": [],
   "source": [
    "Rule 1: A variable name should not contain any namespaces"
   ]
  },
  {
   "cell_type": "code",
   "execution_count": 1,
   "id": "03df294c",
   "metadata": {},
   "outputs": [
    {
     "name": "stdout",
     "output_type": "stream",
     "text": [
      "Neethi\n"
     ]
    }
   ],
   "source": [
    "firstname = 'Neethi'\n",
    "\n",
    "print(firstname)"
   ]
  },
  {
   "cell_type": "code",
   "execution_count": 2,
   "id": "87bd3957",
   "metadata": {},
   "outputs": [
    {
     "name": "stdout",
     "output_type": "stream",
     "text": [
      "Neethi\n"
     ]
    }
   ],
   "source": [
    "first_name = 'Neethi'\n",
    "\n",
    "print(first_name)"
   ]
  },
  {
   "cell_type": "code",
   "execution_count": null,
   "id": "6d9143a1",
   "metadata": {},
   "outputs": [],
   "source": [
    "Rule 2: A variable name should not start with a number"
   ]
  },
  {
   "cell_type": "code",
   "execution_count": 3,
   "id": "06ebf121",
   "metadata": {},
   "outputs": [
    {
     "ename": "SyntaxError",
     "evalue": "invalid syntax (2722858017.py, line 1)",
     "output_type": "error",
     "traceback": [
      "\u001b[0;36m  File \u001b[0;32m\"/var/folders/15/q_cc9h4s5dx_xb66t1nshmb00000gn/T/ipykernel_10312/2722858017.py\"\u001b[0;36m, line \u001b[0;32m1\u001b[0m\n\u001b[0;31m    1name = 'Neethi'\u001b[0m\n\u001b[0m     ^\u001b[0m\n\u001b[0;31mSyntaxError\u001b[0m\u001b[0;31m:\u001b[0m invalid syntax\n"
     ]
    }
   ],
   "source": [
    "1name = 'Neethi'\n",
    "\n",
    "print(1name)"
   ]
  },
  {
   "cell_type": "code",
   "execution_count": 4,
   "id": "77701447",
   "metadata": {},
   "outputs": [
    {
     "name": "stdout",
     "output_type": "stream",
     "text": [
      "Neethi\n"
     ]
    }
   ],
   "source": [
    "name1 = 'Neethi'\n",
    "\n",
    "print(name1)"
   ]
  },
  {
   "cell_type": "code",
   "execution_count": null,
   "id": "b836b9ec",
   "metadata": {},
   "outputs": [],
   "source": [
    "Rule 3: A variable name should not contain any special characters (@$*&)"
   ]
  },
  {
   "cell_type": "code",
   "execution_count": 5,
   "id": "615ea75e",
   "metadata": {},
   "outputs": [
    {
     "ename": "SyntaxError",
     "evalue": "invalid syntax (623799575.py, line 1)",
     "output_type": "error",
     "traceback": [
      "\u001b[0;36m  File \u001b[0;32m\"/var/folders/15/q_cc9h4s5dx_xb66t1nshmb00000gn/T/ipykernel_10312/623799575.py\"\u001b[0;36m, line \u001b[0;32m1\u001b[0m\n\u001b[0;31m    name& = 'Neethi'\u001b[0m\n\u001b[0m          ^\u001b[0m\n\u001b[0;31mSyntaxError\u001b[0m\u001b[0;31m:\u001b[0m invalid syntax\n"
     ]
    }
   ],
   "source": [
    "name& = 'Neethi'\n",
    "\n",
    "print(name&)"
   ]
  },
  {
   "cell_type": "code",
   "execution_count": null,
   "id": "40fd9e0c",
   "metadata": {},
   "outputs": [],
   "source": []
  },
  {
   "cell_type": "code",
   "execution_count": null,
   "id": "83072c49",
   "metadata": {},
   "outputs": [],
   "source": [
    "Datatypes in Python:\n",
    "    \n",
    "    1. string =========>str\n",
    "    2. Numbers ========> integers=int and float (decimal)=float\n",
    "    3. list =========> list\n",
    "    4. tuple ========> tuple\n",
    "    5. Dictionaries ====> dict"
   ]
  },
  {
   "cell_type": "code",
   "execution_count": null,
   "id": "3296a972",
   "metadata": {},
   "outputs": [],
   "source": []
  },
  {
   "cell_type": "code",
   "execution_count": null,
   "id": "3aafbd56",
   "metadata": {},
   "outputs": [],
   "source": [
    "Classification of Datatypes:\n",
    "    \n",
    "    1. Mutable datatypes -------> which we can edit or alter (flexible)\n",
    "    2. Immutable datatypes ------> which we cannot edit or alter (fixed)"
   ]
  },
  {
   "cell_type": "code",
   "execution_count": null,
   "id": "3b59ac04",
   "metadata": {},
   "outputs": [],
   "source": [
    "String datatype:\n",
    "    - String is a series of characters declared in quotes. It is immutable datatype.\n",
    "    \n",
    "    - There are 3 possible options for declaring the string\n",
    "        1. single quote\n",
    "        2. double quote\n",
    "        3. triple quote"
   ]
  },
  {
   "cell_type": "code",
   "execution_count": 6,
   "id": "7dbcd12c",
   "metadata": {},
   "outputs": [
    {
     "name": "stdout",
     "output_type": "stream",
     "text": [
      "Neethi\n"
     ]
    }
   ],
   "source": [
    "name = 'Neethi'\n",
    "print(name)"
   ]
  },
  {
   "cell_type": "code",
   "execution_count": 16,
   "id": "be840d18",
   "metadata": {},
   "outputs": [
    {
     "name": "stdout",
     "output_type": "stream",
     "text": [
      "Neethi\n"
     ]
    }
   ],
   "source": [
    "name2 = \"Neethi\"\n",
    "print(name2)"
   ]
  },
  {
   "cell_type": "code",
   "execution_count": 17,
   "id": "8baf4992",
   "metadata": {},
   "outputs": [
    {
     "name": "stdout",
     "output_type": "stream",
     "text": [
      "Neethi\n"
     ]
    }
   ],
   "source": [
    "name3 = '''Neethi'''  #triple quote\n",
    "print(name3)"
   ]
  },
  {
   "cell_type": "code",
   "execution_count": null,
   "id": "7b8ca41a",
   "metadata": {},
   "outputs": [],
   "source": [
    "# hash is used for commenting the code (example above)"
   ]
  },
  {
   "cell_type": "code",
   "execution_count": null,
   "id": "1e7a8bb6",
   "metadata": {},
   "outputs": [],
   "source": []
  },
  {
   "cell_type": "code",
   "execution_count": null,
   "id": "630b45ef",
   "metadata": {},
   "outputs": [],
   "source": [
    "Introduction - String Methods"
   ]
  },
  {
   "cell_type": "code",
   "execution_count": 18,
   "id": "6ad45546",
   "metadata": {},
   "outputs": [
    {
     "data": {
      "text/plain": [
       "str"
      ]
     },
     "execution_count": 18,
     "metadata": {},
     "output_type": "execute_result"
    }
   ],
   "source": [
    "type(name)"
   ]
  },
  {
   "cell_type": "code",
   "execution_count": 19,
   "id": "c2316e0c",
   "metadata": {},
   "outputs": [
    {
     "data": {
      "text/plain": [
       "str"
      ]
     },
     "execution_count": 19,
     "metadata": {},
     "output_type": "execute_result"
    }
   ],
   "source": [
    "type(name2)"
   ]
  },
  {
   "cell_type": "code",
   "execution_count": 20,
   "id": "26533bd4",
   "metadata": {},
   "outputs": [
    {
     "data": {
      "text/plain": [
       "str"
      ]
     },
     "execution_count": 20,
     "metadata": {},
     "output_type": "execute_result"
    }
   ],
   "source": [
    "type(name3)"
   ]
  },
  {
   "cell_type": "code",
   "execution_count": null,
   "id": "1b61f39c",
   "metadata": {},
   "outputs": [],
   "source": []
  },
  {
   "cell_type": "code",
   "execution_count": null,
   "id": "e296320c",
   "metadata": {},
   "outputs": [],
   "source": []
  },
  {
   "cell_type": "code",
   "execution_count": null,
   "id": "307a62ee",
   "metadata": {},
   "outputs": [],
   "source": []
  },
  {
   "cell_type": "code",
   "execution_count": null,
   "id": "ee9649ce",
   "metadata": {},
   "outputs": [],
   "source": []
  }
 ],
 "metadata": {
  "kernelspec": {
   "display_name": "Python 3 (ipykernel)",
   "language": "python",
   "name": "python3"
  },
  "language_info": {
   "codemirror_mode": {
    "name": "ipython",
    "version": 3
   },
   "file_extension": ".py",
   "mimetype": "text/x-python",
   "name": "python",
   "nbconvert_exporter": "python",
   "pygments_lexer": "ipython3",
   "version": "3.9.7"
  }
 },
 "nbformat": 4,
 "nbformat_minor": 5
}
