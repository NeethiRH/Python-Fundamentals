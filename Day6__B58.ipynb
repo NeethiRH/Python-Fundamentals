{
 "cells": [
  {
   "cell_type": "code",
   "execution_count": null,
   "id": "a2e6a41c",
   "metadata": {},
   "outputs": [],
   "source": [
    "Introduction to looping statements:"
   ]
  },
  {
   "cell_type": "code",
   "execution_count": null,
   "id": "5fbf6d64",
   "metadata": {},
   "outputs": [],
   "source": [
    "Understanding the concept of loops:"
   ]
  },
  {
   "cell_type": "code",
   "execution_count": 1,
   "id": "39e32de5",
   "metadata": {},
   "outputs": [],
   "source": [
    "students = ['Rohan', 'Ayoush', 'Kshitij', 'Amyra', 'Judith', 'Hridaan', 'Kavya']"
   ]
  },
  {
   "cell_type": "code",
   "execution_count": 2,
   "id": "a03e459d",
   "metadata": {},
   "outputs": [
    {
     "name": "stdout",
     "output_type": "stream",
     "text": [
      "['Rohan', 'Ayoush', 'Kshitij', 'Amyra', 'Judith', 'Hridaan', 'Kavya']\n"
     ]
    }
   ],
   "source": [
    "print(students)"
   ]
  },
  {
   "cell_type": "code",
   "execution_count": null,
   "id": "b0efa71a",
   "metadata": {},
   "outputs": [],
   "source": []
  },
  {
   "cell_type": "code",
   "execution_count": null,
   "id": "fb6cded9",
   "metadata": {},
   "outputs": [],
   "source": [
    "1st approach:"
   ]
  },
  {
   "cell_type": "code",
   "execution_count": 3,
   "id": "0e1227c3",
   "metadata": {},
   "outputs": [],
   "source": [
    "message = f\"Keep up the good work, {students[4]}\""
   ]
  },
  {
   "cell_type": "code",
   "execution_count": 4,
   "id": "183f39b7",
   "metadata": {},
   "outputs": [
    {
     "name": "stdout",
     "output_type": "stream",
     "text": [
      "Keep up the good work, Judith\n"
     ]
    }
   ],
   "source": [
    "print(message)"
   ]
  },
  {
   "cell_type": "code",
   "execution_count": 5,
   "id": "33a5ed3e",
   "metadata": {},
   "outputs": [],
   "source": [
    "message = f\"Keep up the good work, {students[2]}\""
   ]
  },
  {
   "cell_type": "code",
   "execution_count": 6,
   "id": "882abb6a",
   "metadata": {},
   "outputs": [
    {
     "name": "stdout",
     "output_type": "stream",
     "text": [
      "Keep up the good work, Kshitij\n"
     ]
    }
   ],
   "source": [
    "print(message)"
   ]
  },
  {
   "cell_type": "code",
   "execution_count": null,
   "id": "11cc47c2",
   "metadata": {},
   "outputs": [],
   "source": []
  },
  {
   "cell_type": "code",
   "execution_count": null,
   "id": "b5ef2b70",
   "metadata": {},
   "outputs": [],
   "source": [
    "# General syntax for a loop:"
   ]
  },
  {
   "cell_type": "code",
   "execution_count": null,
   "id": "41b832d6",
   "metadata": {},
   "outputs": [],
   "source": [
    "for tempvar in mainvar:\n",
    "    print(tempvar)"
   ]
  },
  {
   "cell_type": "code",
   "execution_count": 7,
   "id": "ee8f3db0",
   "metadata": {},
   "outputs": [
    {
     "ename": "TypeError",
     "evalue": "'str' object is not callable",
     "output_type": "error",
     "traceback": [
      "\u001b[0;31m---------------------------------------------------------------------------\u001b[0m",
      "\u001b[0;31mTypeError\u001b[0m                                 Traceback (most recent call last)",
      "\u001b[0;32m/var/folders/15/q_cc9h4s5dx_xb66t1nshmb00000gn/T/ipykernel_14006/994172228.py\u001b[0m in \u001b[0;36m<module>\u001b[0;34m\u001b[0m\n\u001b[1;32m      1\u001b[0m \u001b[0;32mfor\u001b[0m \u001b[0mx\u001b[0m \u001b[0;32min\u001b[0m \u001b[0mstudents\u001b[0m\u001b[0;34m:\u001b[0m\u001b[0;34m\u001b[0m\u001b[0;34m\u001b[0m\u001b[0m\n\u001b[0;32m----> 2\u001b[0;31m     \u001b[0mprint\u001b[0m\u001b[0;34m(\u001b[0m\u001b[0;34mf\"Keep up the good work, {x()}\"\u001b[0m\u001b[0;34m)\u001b[0m\u001b[0;34m\u001b[0m\u001b[0;34m\u001b[0m\u001b[0m\n\u001b[0m",
      "\u001b[0;31mTypeError\u001b[0m: 'str' object is not callable"
     ]
    }
   ],
   "source": [
    "for x in students:\n",
    "    print(f\"Keep up the good work, {x()}\")"
   ]
  },
  {
   "cell_type": "code",
   "execution_count": 8,
   "id": "2e9807d7",
   "metadata": {},
   "outputs": [
    {
     "name": "stdout",
     "output_type": "stream",
     "text": [
      "Keep up the good work, Rohan\n",
      "Keep up the good work, Ayoush\n",
      "Keep up the good work, Kshitij\n",
      "Keep up the good work, Amyra\n",
      "Keep up the good work, Judith\n",
      "Keep up the good work, Hridaan\n",
      "Keep up the good work, Kavya\n"
     ]
    }
   ],
   "source": [
    "for x in students:\n",
    "    print(f\"Keep up the good work, {x.title()}\")"
   ]
  },
  {
   "cell_type": "code",
   "execution_count": 9,
   "id": "15343806",
   "metadata": {},
   "outputs": [
    {
     "name": "stdout",
     "output_type": "stream",
     "text": [
      "Keep up the good work, Rohan\n",
      "Keep up the good work, Ayoush\n",
      "Keep up the good work, Kshitij\n",
      "Keep up the good work, Amyra\n",
      "Keep up the good work, Judith\n",
      "Keep up the good work, Hridaan\n",
      "Keep up the good work, Kavya\n"
     ]
    }
   ],
   "source": [
    "for new in students:\n",
    "    print(f\"Keep up the good work, {new.title()}\")"
   ]
  },
  {
   "cell_type": "code",
   "execution_count": null,
   "id": "39a9484b",
   "metadata": {},
   "outputs": [],
   "source": [
    "# Enhancement of the code"
   ]
  },
  {
   "cell_type": "code",
   "execution_count": 10,
   "id": "b79cccc7",
   "metadata": {},
   "outputs": [
    {
     "name": "stdout",
     "output_type": "stream",
     "text": [
      "Keep up the good work, Kavya\n",
      "All the best for the next training session, Rohan\n",
      "Keep up the good work, Kavya\n",
      "All the best for the next training session, Ayoush\n",
      "Keep up the good work, Kavya\n",
      "All the best for the next training session, Kshitij\n",
      "Keep up the good work, Kavya\n",
      "All the best for the next training session, Amyra\n",
      "Keep up the good work, Kavya\n",
      "All the best for the next training session, Judith\n",
      "Keep up the good work, Kavya\n",
      "All the best for the next training session, Hridaan\n",
      "Keep up the good work, Kavya\n",
      "All the best for the next training session, Kavya\n"
     ]
    }
   ],
   "source": [
    "for x in students:\n",
    "    print(f\"Keep up the good work, {new.title()}\")\n",
    "    print(f\"All the best for the next training session, {x.title()}\")"
   ]
  },
  {
   "cell_type": "code",
   "execution_count": null,
   "id": "34ac90ed",
   "metadata": {},
   "outputs": [],
   "source": [
    "# Enhancement of the code"
   ]
  },
  {
   "cell_type": "code",
   "execution_count": 11,
   "id": "6e8a954d",
   "metadata": {},
   "outputs": [
    {
     "name": "stdout",
     "output_type": "stream",
     "text": [
      "Keep up the good work, Kavya\n",
      "All the best for the next training session, Rohan\n",
      "\n",
      "Keep up the good work, Kavya\n",
      "All the best for the next training session, Ayoush\n",
      "\n",
      "Keep up the good work, Kavya\n",
      "All the best for the next training session, Kshitij\n",
      "\n",
      "Keep up the good work, Kavya\n",
      "All the best for the next training session, Amyra\n",
      "\n",
      "Keep up the good work, Kavya\n",
      "All the best for the next training session, Judith\n",
      "\n",
      "Keep up the good work, Kavya\n",
      "All the best for the next training session, Hridaan\n",
      "\n",
      "Keep up the good work, Kavya\n",
      "All the best for the next training session, Kavya\n",
      "\n"
     ]
    }
   ],
   "source": [
    "for x in students:\n",
    "    print(f\"Keep up the good work, {new.title()}\")\n",
    "    print(f\"All the best for the next training session, {x.title()}\\n\")"
   ]
  },
  {
   "cell_type": "code",
   "execution_count": 12,
   "id": "c80ed66b",
   "metadata": {},
   "outputs": [
    {
     "name": "stdout",
     "output_type": "stream",
     "text": [
      "Keep up the good work, Kavya\n",
      "All the best for the next training session, Rohan\n",
      "\n",
      "Keep up the good work, Kavya\n",
      "All the best for the next training session, Ayoush\n",
      "\n",
      "Keep up the good work, Kavya\n",
      "All the best for the next training session, Kshitij\n",
      "\n",
      "Keep up the good work, Kavya\n",
      "All the best for the next training session, Amyra\n",
      "\n",
      "Keep up the good work, Kavya\n",
      "All the best for the next training session, Judith\n",
      "\n",
      "Keep up the good work, Kavya\n",
      "All the best for the next training session, Hridaan\n",
      "\n",
      "Keep up the good work, Kavya\n",
      "All the best for the next training session, Kavya\n",
      "\n",
      "Thank you for attending this training session\n"
     ]
    }
   ],
   "source": [
    "for x in students:\n",
    "    print(f\"Keep up the good work, {new.title()}\")\n",
    "    print(f\"All the best for the next training session, {x.title()}\\n\")\n",
    "\n",
    "print(\"Thank you for attending this training session\")"
   ]
  },
  {
   "cell_type": "code",
   "execution_count": null,
   "id": "b38d8064",
   "metadata": {},
   "outputs": [],
   "source": [
    "for tempvar in mainvar:\n",
    "    print(tempvar)\n",
    "    \n",
    "# indentation"
   ]
  },
  {
   "cell_type": "code",
   "execution_count": 13,
   "id": "c5c8ad94",
   "metadata": {},
   "outputs": [
    {
     "ename": "IndentationError",
     "evalue": "expected an indented block (2829379544.py, line 2)",
     "output_type": "error",
     "traceback": [
      "\u001b[0;36m  File \u001b[0;32m\"/var/folders/15/q_cc9h4s5dx_xb66t1nshmb00000gn/T/ipykernel_14006/2829379544.py\"\u001b[0;36m, line \u001b[0;32m2\u001b[0m\n\u001b[0;31m    print(tempvar)\u001b[0m\n\u001b[0m    ^\u001b[0m\n\u001b[0;31mIndentationError\u001b[0m\u001b[0;31m:\u001b[0m expected an indented block\n"
     ]
    }
   ],
   "source": [
    "for tempvar in mainvar:\n",
    "print(tempvar)"
   ]
  },
  {
   "cell_type": "code",
   "execution_count": null,
   "id": "23a14765",
   "metadata": {},
   "outputs": [],
   "source": []
  }
 ],
 "metadata": {
  "kernelspec": {
   "display_name": "Python 3 (ipykernel)",
   "language": "python",
   "name": "python3"
  },
  "language_info": {
   "codemirror_mode": {
    "name": "ipython",
    "version": 3
   },
   "file_extension": ".py",
   "mimetype": "text/x-python",
   "name": "python",
   "nbconvert_exporter": "python",
   "pygments_lexer": "ipython3",
   "version": "3.9.7"
  }
 },
 "nbformat": 4,
 "nbformat_minor": 5
}
