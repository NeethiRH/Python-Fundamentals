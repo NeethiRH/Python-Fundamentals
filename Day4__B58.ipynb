{
 "cells": [
  {
   "cell_type": "code",
   "execution_count": null,
   "id": "80ea842f",
   "metadata": {},
   "outputs": [],
   "source": [
    "Introduction - list datatype:"
   ]
  },
  {
   "cell_type": "code",
   "execution_count": null,
   "id": "a1e48f2e",
   "metadata": {},
   "outputs": [],
   "source": [
    "Definition: A list is a collection of items declared in a particular order\n",
    "    \n",
    "Classification: It is a mutable datatype"
   ]
  },
  {
   "cell_type": "code",
   "execution_count": null,
   "id": "aa72cb1c",
   "metadata": {},
   "outputs": [],
   "source": []
  },
  {
   "cell_type": "code",
   "execution_count": 1,
   "id": "2b8dcf81",
   "metadata": {},
   "outputs": [],
   "source": [
    "How to define/declare a list? []"
   ]
  },
  {
   "cell_type": "code",
   "execution_count": 2,
   "id": "ec01c93f",
   "metadata": {},
   "outputs": [],
   "source": [
    "students = ['Anjali', 'Rohan', 'Rakesh', 'Tasneem', 'Neelam', 'Aizah', 'Ignatius']"
   ]
  },
  {
   "cell_type": "code",
   "execution_count": 3,
   "id": "7e4eebd6",
   "metadata": {},
   "outputs": [
    {
     "name": "stdout",
     "output_type": "stream",
     "text": [
      "['Anjali', 'Rohan', 'Rakesh', 'Tasneem', 'Neelam', 'Aizah', 'Ignatius']\n"
     ]
    }
   ],
   "source": [
    "print(students)"
   ]
  },
  {
   "cell_type": "code",
   "execution_count": null,
   "id": "de8cdaef",
   "metadata": {},
   "outputs": [],
   "source": []
  },
  {
   "cell_type": "code",
   "execution_count": 4,
   "id": "d5b50c0f",
   "metadata": {},
   "outputs": [
    {
     "data": {
      "text/plain": [
       "list"
      ]
     },
     "execution_count": 4,
     "metadata": {},
     "output_type": "execute_result"
    }
   ],
   "source": [
    "type(students)"
   ]
  },
  {
   "cell_type": "code",
   "execution_count": null,
   "id": "c0388baa",
   "metadata": {},
   "outputs": [],
   "source": []
  },
  {
   "cell_type": "code",
   "execution_count": null,
   "id": "3389f377",
   "metadata": {},
   "outputs": [],
   "source": [
    "Introduction to indexing: 0,1,2,3,4,......."
   ]
  },
  {
   "cell_type": "code",
   "execution_count": 5,
   "id": "7780bb63",
   "metadata": {},
   "outputs": [
    {
     "name": "stdout",
     "output_type": "stream",
     "text": [
      "Neelam\n"
     ]
    }
   ],
   "source": [
    "print(students[4])"
   ]
  },
  {
   "cell_type": "code",
   "execution_count": 6,
   "id": "ffa2230c",
   "metadata": {},
   "outputs": [
    {
     "name": "stdout",
     "output_type": "stream",
     "text": [
      "Rakesh\n"
     ]
    }
   ],
   "source": [
    "print(students[2])"
   ]
  },
  {
   "cell_type": "code",
   "execution_count": null,
   "id": "23a6ecc3",
   "metadata": {},
   "outputs": [],
   "source": []
  },
  {
   "cell_type": "code",
   "execution_count": null,
   "id": "8557f314",
   "metadata": {},
   "outputs": [],
   "source": [
    "1. How to add new elements to the list?\n",
    "\n",
    "2. How to modify the elements in the list?\n",
    "\n",
    "3. How to delete the elements from the list?"
   ]
  },
  {
   "cell_type": "code",
   "execution_count": null,
   "id": "c280eddc",
   "metadata": {},
   "outputs": [],
   "source": []
  },
  {
   "cell_type": "code",
   "execution_count": 7,
   "id": "d6d6252c",
   "metadata": {},
   "outputs": [],
   "source": [
    "students.append('Mahesh')"
   ]
  },
  {
   "cell_type": "code",
   "execution_count": 8,
   "id": "ce88a3c3",
   "metadata": {},
   "outputs": [
    {
     "name": "stdout",
     "output_type": "stream",
     "text": [
      "['Anjali', 'Rohan', 'Rakesh', 'Tasneem', 'Neelam', 'Aizah', 'Ignatius', 'Mahesh']\n"
     ]
    }
   ],
   "source": [
    "print(students)"
   ]
  },
  {
   "cell_type": "code",
   "execution_count": 9,
   "id": "4e492099",
   "metadata": {},
   "outputs": [],
   "source": [
    "students.append('Husain')"
   ]
  },
  {
   "cell_type": "code",
   "execution_count": 10,
   "id": "9cd326c0",
   "metadata": {},
   "outputs": [
    {
     "name": "stdout",
     "output_type": "stream",
     "text": [
      "['Anjali', 'Rohan', 'Rakesh', 'Tasneem', 'Neelam', 'Aizah', 'Ignatius', 'Mahesh', 'Husain']\n"
     ]
    }
   ],
   "source": [
    "print(students)"
   ]
  },
  {
   "cell_type": "code",
   "execution_count": null,
   "id": "69289f33",
   "metadata": {},
   "outputs": [],
   "source": [
    "1. adding a new name in a specific position in the above list"
   ]
  },
  {
   "cell_type": "code",
   "execution_count": 11,
   "id": "4e438e8c",
   "metadata": {},
   "outputs": [],
   "source": [
    "students.insert(0,'Helen')"
   ]
  },
  {
   "cell_type": "code",
   "execution_count": 12,
   "id": "e3488303",
   "metadata": {},
   "outputs": [
    {
     "name": "stdout",
     "output_type": "stream",
     "text": [
      "['Helen', 'Anjali', 'Rohan', 'Rakesh', 'Tasneem', 'Neelam', 'Aizah', 'Ignatius', 'Mahesh', 'Husain']\n"
     ]
    }
   ],
   "source": [
    "print(students)"
   ]
  },
  {
   "cell_type": "code",
   "execution_count": 13,
   "id": "6bc5d512",
   "metadata": {},
   "outputs": [
    {
     "name": "stdout",
     "output_type": "stream",
     "text": [
      "Helen\n"
     ]
    }
   ],
   "source": [
    "print(students[0])"
   ]
  },
  {
   "cell_type": "code",
   "execution_count": null,
   "id": "6554b044",
   "metadata": {},
   "outputs": [],
   "source": [
    "# Difference between append and insert method \n",
    "    append - adds name at the end of the list\n",
    "    insert - adds name at a specific position in the list"
   ]
  },
  {
   "cell_type": "code",
   "execution_count": null,
   "id": "800dcaba",
   "metadata": {},
   "outputs": [],
   "source": []
  },
  {
   "cell_type": "code",
   "execution_count": 14,
   "id": "b5ae7bf1",
   "metadata": {},
   "outputs": [
    {
     "name": "stdout",
     "output_type": "stream",
     "text": [
      "['Helen', 'Anjali', 'Rohan', 'Rakesh', 'Tasneem', 'Neelam', 'Aizah', 'Ignatius', 'Mahesh', 'Husain']\n"
     ]
    }
   ],
   "source": [
    "print(students)"
   ]
  },
  {
   "cell_type": "code",
   "execution_count": null,
   "id": "fd9b9b83",
   "metadata": {},
   "outputs": [],
   "source": []
  },
  {
   "cell_type": "code",
   "execution_count": null,
   "id": "7491bcd1",
   "metadata": {},
   "outputs": [],
   "source": [
    "2. Modify elements in a list - modify name Ignatius to Ayoush"
   ]
  },
  {
   "cell_type": "code",
   "execution_count": 15,
   "id": "5e4e09c8",
   "metadata": {},
   "outputs": [
    {
     "name": "stdout",
     "output_type": "stream",
     "text": [
      "Ignatius\n"
     ]
    }
   ],
   "source": [
    "print(students[7])"
   ]
  },
  {
   "cell_type": "code",
   "execution_count": 16,
   "id": "78c384d2",
   "metadata": {},
   "outputs": [],
   "source": [
    "students[7] = 'Ayoush'"
   ]
  },
  {
   "cell_type": "code",
   "execution_count": 17,
   "id": "b30ebc62",
   "metadata": {},
   "outputs": [
    {
     "name": "stdout",
     "output_type": "stream",
     "text": [
      "['Helen', 'Anjali', 'Rohan', 'Rakesh', 'Tasneem', 'Neelam', 'Aizah', 'Ayoush', 'Mahesh', 'Husain']\n"
     ]
    }
   ],
   "source": [
    "print(students)"
   ]
  },
  {
   "cell_type": "code",
   "execution_count": null,
   "id": "0c8af16d",
   "metadata": {},
   "outputs": [],
   "source": []
  },
  {
   "cell_type": "code",
   "execution_count": null,
   "id": "142a5739",
   "metadata": {},
   "outputs": [],
   "source": [
    "3. Delete elements from a list - Delete name Aizah"
   ]
  },
  {
   "cell_type": "code",
   "execution_count": 18,
   "id": "354a5a03",
   "metadata": {},
   "outputs": [],
   "source": [
    "del students[6]  # del permanently deletes the element from the list"
   ]
  },
  {
   "cell_type": "code",
   "execution_count": 19,
   "id": "3c3f1404",
   "metadata": {},
   "outputs": [
    {
     "name": "stdout",
     "output_type": "stream",
     "text": [
      "['Helen', 'Anjali', 'Rohan', 'Rakesh', 'Tasneem', 'Neelam', 'Ayoush', 'Mahesh', 'Husain']\n"
     ]
    }
   ],
   "source": [
    "print(students)"
   ]
  },
  {
   "cell_type": "code",
   "execution_count": null,
   "id": "c0eb1a6b",
   "metadata": {},
   "outputs": [],
   "source": []
  },
  {
   "cell_type": "code",
   "execution_count": null,
   "id": "05c2bf64",
   "metadata": {},
   "outputs": [],
   "source": [
    "# Temporary deletion - pop"
   ]
  },
  {
   "cell_type": "code",
   "execution_count": null,
   "id": "53f384b7",
   "metadata": {},
   "outputs": [],
   "source": [
    "pop ----> It is used to delete the elements temporarily ----> It wiil be a carbon copy of the deleted items \n",
    "and will be stored in a variable assigned to it.\n",
    "\n",
    "pop ----> By default, it will delete the last element in the list"
   ]
  },
  {
   "cell_type": "code",
   "execution_count": 20,
   "id": "399d2ba6",
   "metadata": {},
   "outputs": [
    {
     "name": "stdout",
     "output_type": "stream",
     "text": [
      "['Helen', 'Anjali', 'Rohan', 'Rakesh', 'Tasneem', 'Neelam', 'Ayoush', 'Mahesh', 'Husain']\n"
     ]
    }
   ],
   "source": [
    "print(students)"
   ]
  },
  {
   "cell_type": "code",
   "execution_count": 21,
   "id": "92d3a451",
   "metadata": {},
   "outputs": [],
   "source": [
    "x = students.pop()"
   ]
  },
  {
   "cell_type": "code",
   "execution_count": 22,
   "id": "2e1190e0",
   "metadata": {},
   "outputs": [
    {
     "name": "stdout",
     "output_type": "stream",
     "text": [
      "['Helen', 'Anjali', 'Rohan', 'Rakesh', 'Tasneem', 'Neelam', 'Ayoush', 'Mahesh']\n"
     ]
    }
   ],
   "source": [
    "print(students)"
   ]
  },
  {
   "cell_type": "code",
   "execution_count": 23,
   "id": "60a06cbd",
   "metadata": {},
   "outputs": [
    {
     "name": "stdout",
     "output_type": "stream",
     "text": [
      "Husain\n"
     ]
    }
   ],
   "source": [
    "print(x)"
   ]
  }
 ],
 "metadata": {
  "kernelspec": {
   "display_name": "Python 3 (ipykernel)",
   "language": "python",
   "name": "python3"
  },
  "language_info": {
   "codemirror_mode": {
    "name": "ipython",
    "version": 3
   },
   "file_extension": ".py",
   "mimetype": "text/x-python",
   "name": "python",
   "nbconvert_exporter": "python",
   "pygments_lexer": "ipython3",
   "version": "3.9.7"
  }
 },
 "nbformat": 4,
 "nbformat_minor": 5
}
